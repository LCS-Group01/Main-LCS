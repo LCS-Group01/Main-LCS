{
 "cells": [
  {
   "cell_type": "code",
   "execution_count": 1,
   "metadata": {},
   "outputs": [],
   "source": [
    "import sqlite3"
   ]
  },
  {
   "cell_type": "code",
   "execution_count": 2,
   "metadata": {},
   "outputs": [],
   "source": [
    "con = sqlite3.connect('LCS1.db')\n",
    "cur = con.cursor()"
   ]
  },
  {
   "cell_type": "code",
   "execution_count": 3,
   "metadata": {},
   "outputs": [],
   "source": [
    "cur.close()\n",
    "con.close()"
   ]
  },
  {
   "cell_type": "code",
   "execution_count": 7,
   "metadata": {},
   "outputs": [],
   "source": [
    "con = sqlite3.connect('LCS1.db')\n",
    "cur = con.cursor()"
   ]
  },
  {
   "cell_type": "code",
   "execution_count": 8,
   "metadata": {},
   "outputs": [
    {
     "data": {
      "text/plain": [
       "<sqlite3.Cursor at 0x23501f49e30>"
      ]
     },
     "execution_count": 8,
     "metadata": {},
     "output_type": "execute_result"
    }
   ],
   "source": [
    "cur.execute(\"\"\"CREATE TABLE IF NOT EXISTS Vehicle(\n",
    "            VIN INTEGER PRIMARY KEY NOT NULL,\n",
    "            [Transport Mode] TEXT,\n",
    "            [Vehicle Type] TEXT,\n",
    "            [Date Acquired] TEXT,\n",
    "            [Kms Traveled] REAL\n",
    "            );\"\"\")\n",
    "\n",
    "cur.execute(\"\"\"CREATE TABLE IF NOT EXISTS Customer(\n",
    "            CustomerID INTEGER PRIMARY KEY NOT NULL,\n",
    "            Street TEXT,\n",
    "            City TEXT,\n",
    "            State TEXT,\n",
    "            Pincode TEXT,\n",
    "            Fname TEXT,\n",
    "            LName TEXT,\n",
    "            [Phone Number] TEXT\n",
    "            );\"\"\")\n",
    "\n",
    "cur.execute(\"\"\"CREATE TABLE IF NOT EXISTS Location(\n",
    "            LocationID INTEGER PRIMARY KEY NOT NULL,\n",
    "            Street TEXT,\n",
    "            City TEXT,\n",
    "            State TEXT,\n",
    "            Pincode TEXT,\n",
    "            [Contact Number] TEXT\n",
    "            );\"\"\")"
   ]
  },
  {
   "cell_type": "code",
   "execution_count": null,
   "metadata": {},
   "outputs": [],
   "source": []
  }
 ],
 "metadata": {
  "kernelspec": {
   "display_name": "Python 3",
   "language": "python",
   "name": "python3"
  },
  "language_info": {
   "codemirror_mode": {
    "name": "ipython",
    "version": 3
   },
   "file_extension": ".py",
   "mimetype": "text/x-python",
   "name": "python",
   "nbconvert_exporter": "python",
   "pygments_lexer": "ipython3",
   "version": "3.8.3"
  }
 },
 "nbformat": 4,
 "nbformat_minor": 4
}
